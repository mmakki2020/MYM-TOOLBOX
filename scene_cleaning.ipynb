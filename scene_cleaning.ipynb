{
 "cells": [
  {
   "cell_type": "code",
   "execution_count": 1,
   "metadata": {},
   "outputs": [],
   "source": [
    "import pandas as pd\n",
    "\n",
    "import re\n",
    "import string\n",
    "import unicodedata\n",
    "\n",
    "#from cleanco import cleanco\n",
    "\n",
    "import os\n",
    "\n",
    "from IPython.core.interactiveshell import InteractiveShell\n",
    "InteractiveShell.ast_node_interactivity = \"all\""
   ]
  },
  {
   "cell_type": "markdown",
   "metadata": {},
   "source": [
    "# Clean SP_Points"
   ]
  },
  {
   "cell_type": "code",
   "execution_count": 2,
   "metadata": {},
   "outputs": [
    {
     "name": "stdout",
     "output_type": "stream",
     "text": [
      "CPU times: user 4.14 s, sys: 333 ms, total: 4.47 s\n",
      "Wall time: 4.47 s\n",
      "<class 'pandas.core.frame.DataFrame'>\n",
      "RangeIndex: 1256221 entries, 0 to 1256220\n",
      "Data columns (total 9 columns):\n",
      "Unique_member_identifier     1256221 non-null object\n",
      "pointid                      1256221 non-null int64\n",
      "pointdt                      1256221 non-null datetime64[ns]\n",
      "points                       1256221 non-null int64\n",
      "pointtypeid                  1256221 non-null int64\n",
      "ex_sourceid                  1250723 non-null float64\n",
      "TransAmount                  1156176 non-null float64\n",
      "ex_transactiondescription    1256221 non-null object\n",
      "MerchantID                   0 non-null float64\n",
      "dtypes: datetime64[ns](1), float64(3), int64(3), object(2)\n",
      "memory usage: 86.3+ MB\n"
     ]
    }
   ],
   "source": [
    "%time df_full=pd.read_csv(\"SceneAnalytics.dbo.SP_Points.csv\", encoding='latin-1', parse_dates=['pointdt'])\n",
    "df_full['ex_transactiondescription'] = df_full['ex_transactiondescription'].astype(str)\n",
    "df_full.info()"
   ]
  },
  {
   "cell_type": "code",
   "execution_count": 3,
   "metadata": {},
   "outputs": [
    {
     "name": "stdout",
     "output_type": "stream",
     "text": [
      "<class 'pandas.core.frame.DataFrame'>\n",
      "Int64Index: 1196534 entries, 0 to 1256220\n",
      "Data columns (total 9 columns):\n",
      "Unique_member_identifier     1196534 non-null object\n",
      "pointid                      1196534 non-null int64\n",
      "pointdt                      1196534 non-null datetime64[ns]\n",
      "points                       1196534 non-null int64\n",
      "pointtypeid                  1196534 non-null int64\n",
      "ex_sourceid                  1191105 non-null float64\n",
      "TransAmount                  1102150 non-null float64\n",
      "ex_transactiondescription    1196534 non-null object\n",
      "MerchantID                   0 non-null float64\n",
      "dtypes: datetime64[ns](1), float64(3), int64(3), object(2)\n",
      "memory usage: 91.3+ MB\n"
     ]
    }
   ],
   "source": [
    "# Some rows are duplicates; not sure why. But remove them.\n",
    "df_full = df_full.drop_duplicates()\n",
    "#df = df_full.sample(n=200000, random_state=1)\n",
    "df = df_full                              \n",
    "df.info()"
   ]
  },
  {
   "cell_type": "code",
   "execution_count": 4,
   "metadata": {},
   "outputs": [
    {
     "data": {
      "text/plain": [
       "154677"
      ]
     },
     "execution_count": 4,
     "metadata": {},
     "output_type": "execute_result"
    }
   ],
   "source": [
    "# How many unique vendors are there? (Surely, we can do better!)\n",
    "df['ex_transactiondescription'].nunique()"
   ]
  },
  {
   "cell_type": "code",
   "execution_count": 5,
   "metadata": {},
   "outputs": [
    {
     "data": {
      "text/plain": [
       "ex_transactiondescription\n",
       "STEP_GOAL_COMPLETE                           42024\n",
       "ADULT TICKETS-BILLETS POUR ADULTE            20742\n",
       "INTERVENTION                                 17784\n",
       "PETRO-CANADA                                 14487\n",
       "CARA Points Earned                           13155\n",
       "ADULT TICKETS PREMIUM                        11227\n",
       "Online bonus en ligne                         9625\n",
       "SCENE Admit                                   7119\n",
       "UBER BV                                       4593\n",
       "Child Tickets                                 4474\n",
       "CONCESSIONS - POPCORN-MAIS ECLATE             4411\n",
       "CONCESSIONS - DRINKS-BOISSONS                 3375\n",
       "REAL CDN SUPERSTORE #1                        3046\n",
       "APL* ITUNES.COM/BILL                          2757\n",
       "Child Tickets Premium                         2687\n",
       "SCENE Card Activation Bonus                   2634\n",
       "SCENE Premium Admit                           2525\n",
       "CANADIAN TIRE GAS BAR                         2405\n",
       "Concession Combo 1                            2222\n",
       "CIRCLE K / IRVING #QPS                        2137\n",
       "APL* ITUNES.COM/BILL     800-676-2775 ON      1999\n",
       "ILIXIUM                                       1792\n",
       "NETFLIX.COM                                   1784\n",
       "SHOPPERS DRUG MART #01                        1676\n",
       "AMAZON *MARKETPLCE CA                         1675\n",
       "Concession Combo 3                            1652\n",
       "PLAYSTATION NETWORK                           1524\n",
       "COMPASS VENDING                               1515\n",
       "Amazon *Marketplce CA    WWW.AMAZON.CAON      1370\n",
       "Concession Combo 2                            1249\n",
       "                                             ...  \n",
       "HILLCREST                                        1\n",
       "HILLCREST                RICHMOND HILLON         1\n",
       "SPOTIFY P028EFCC7C                               1\n",
       "HILLCREST AUTO                                   1\n",
       "SPOTIFY P028ED3903                               1\n",
       "SPOTIFY P028DFD70A                               1\n",
       "SPOTIFY P028ACA4AD                               1\n",
       "SPOTIFY P0289C1A77                               1\n",
       "HILLS DRUG STORE                                 1\n",
       "HILLS DRY GOODS                                  1\n",
       "HILLS NATIVE ART NANAI                           1\n",
       "HILLARY'S DRY CLEANERS                           1\n",
       "HILLARY'S CLEANERS-LAURIEOTTAWA       ON         1\n",
       "HILLARY'S CLEANERS                               1\n",
       "HIKO SUSHI               ABBOTSFORD   BC         1\n",
       "HIGHWOOD GROCERY KART                            1\n",
       "SPOTIFY P029C5DCC0                               1\n",
       "SPOTIFY P029A50AD0                               1\n",
       "HIJAB FASHION                                    1\n",
       "SPOTIFY P02920788B                               1\n",
       "SPOTIFY P02917B79B                               1\n",
       "HILDI WARKENTIN TAX LT                           1\n",
       "HILLARY CLEANERS-ELGIN                           1\n",
       "HILGERSOM PAVING                                 1\n",
       "SPOTIFY P02912C9BE                               1\n",
       "SPOTIFY P029106361                               1\n",
       "HILL'S GRILLS PANINI PRES                        1\n",
       "SPOTIFY P028F39A3B                               1\n",
       "HILLARY CLEANERS - WELLIN                        1\n",
       "FACEBK 9M2QXDJCW2                                1\n",
       "Length: 154677, dtype: int64"
      ]
     },
     "execution_count": 5,
     "metadata": {},
     "output_type": "execute_result"
    }
   ],
   "source": [
    "df.groupby(['ex_transactiondescription']).size().sort_values(ascending=False)"
   ]
  },
  {
   "cell_type": "code",
   "execution_count": 6,
   "metadata": {},
   "outputs": [],
   "source": [
    "# OK, this is a big, manual effort to try to clean up as many of the merchant names as possible. Some tests are below to indicate how it works.\n",
    "\n",
    "def preProcess(column):\n",
    "    column = column.lower().strip()\n",
    "    column = re.sub('  +', ' ', column)\n",
    "    column = re.sub('\\n', ' ', column)\n",
    "    column = re.sub('# *\\d+#?', ' ', column)\n",
    "    column = re.sub('\\bq\\w\\w\\b', ' ', column)\n",
    "    column = re.sub('purchase at', ' ', column)\n",
    "    column = re.sub('\\[merge.*\\]\\d+', '', column)\n",
    "    \n",
    "    column = re.sub('\\d+$', ' ', column)\n",
    "    column = re.sub('inc\\.?', ' ', column)\n",
    "    column = re.sub('\\'', '', column)\n",
    "    column = re.sub('[\\(\\)]', '', column)\n",
    "    column = re.sub('`', '', column)\n",
    "    column = re.sub('\\-$', '', column)\n",
    "    column = re.sub('_$', '', column)\n",
    "    column = re.sub('#\\w{0,2$', '', column)\n",
    "    \n",
    "    #ideas: ends in number and maybe 'ca'\n",
    "    column = re.sub('\\d{5,}( ca)?$', '', column)\n",
    "    \n",
    "    #column = cleanco(column).clean_name()\n",
    "    \n",
    "    column = re.sub(\"mcdonald \",\"mcdonalds \", column)\n",
    "    column = re.sub(\"bed bath and beyond\",\"bed bath & beyond\", column)\n",
    "    column = re.sub(\"cdn tire store\",\"canadian tire\", column)\n",
    "    column = re.sub(\"cdn tire gasbar\",\"cdn tire gas bar\", column)\n",
    "    column = re.sub(\"7-?eleven\",\"7 eleven\", column)\n",
    "    column = re.sub(\"h&m\",\"h & m\", column)\n",
    "    column = re.sub(\"macs conv\\.\",\"macs convenience\", column)\n",
    "    column = re.sub(\"a&w\",\"a & w\", column)\n",
    "    column = re.sub(\"nofrills\",\"no frills\", column)\n",
    "    column = re.sub(\"facebk\",\"facebook\", column)\n",
    "    column = re.sub(\"wal-mart\",\"walmart\", column)\n",
    "    column = re.sub(\"shoppersdrugmart\", \"shoppers drug mart\", column)\n",
    "    column = re.sub(\"rw and c\", \"rw & c\", column)\n",
    "    column = re.sub(\"rw *& c\", \"rw & c\", column)\n",
    "    column = re.sub(\"real cdn\\.? superstore\", \"real canadian superstore\", column)\n",
    "    column = re.sub(\"real canadian supersto \", \"real canadian superstore \", column)\n",
    "    column = re.sub(\"real canadian supersto?\", \"real canadian superstore\", column)\n",
    "    column = re.sub(\"petrocan\", \"petro-canada\", column)\n",
    "    column = re.sub(\"petro gas\", \"petro-canada\", column)\n",
    "    column = re.sub(\"bath and body\", \"bath & body\", column)\n",
    "    column = re.sub(\"adult tickets-billets pou\", \"adult tickets\", column)\n",
    "    column = re.sub(\"adult ticketsr adulte\", \"adult tickets\", column)\n",
    "    column = re.sub(\"air can.*\", \"air canada\", column)\n",
    "    #column = re.sub(\"\", \"\", column)\n",
    "\n",
    "    \n",
    "    names = ['tim horton', 'macs conv. store',\n",
    "            \"7 eleven\",\"a & w\",\"abercrombie & fitch\",\"air canada\",\"aldo\",\"amazon\",\"apple\", \"ardene\",\n",
    "              \"bar & grill\",\"bath & body works\",\"bed bath & beyond\",\n",
    "              \"beer store\",\"bell\",\"best buy\",\"bluenotes\",\"booster juice\",\"boston pizza\",\n",
    "              \"browns fine foods\",\"bulk barn\",\"burger king\",\"canadian tire\",\n",
    "              \"cdn tire gas bar\",\"chapters\",\"chevron\",\"cineplex\",\n",
    "              \"circle k irving\",\"costco gas\",\"costco\",\"couchetard\",\"dairy queen\",\n",
    "              \"davids tea\",\"dennys\",\"dollar tree\",\"dollarama\",\"dominos pizza\",\"east side marios\",\n",
    "              \"esso\",\"facebook\",\"famous player\",\"fido\",\"food basics\",\"foodland\",\"forever 21\",\n",
    "              \"fortinos\",\"freshco\",\"freshii\",\"gap\",\"garage\",\"google\",\"grill & chill\",\"guess\",\n",
    "              \"h & m\",\"habitat for humanity\",\"harveys\",\"home depot\",\"hudsons bay\",\n",
    "              \"itunes\",\"jean coutu\",\"jugo juice\",\"kami cabs\",\"kfc\",\"la senza\",\"la vie en rose\",\n",
    "              \"liquor mart\",\"little caesars pizza\",\"loblaw\",\"longos\",\"lush\",\"m&m food market\",\n",
    "              \"macs conv\",\"maries mini mart\",\"marshalls\",\"maxi & cie\",\n",
    "              \"mcdonalds\",\"metro\",\"michaels\",\"montanas\",\"national money mart\",\n",
    "              \"new york fries\",\"no frills\",\"old navy\",\"papa johns pizza\",\"paypal\",\n",
    "              \"petsmart\",\"pharmaprix\",\"pizza hut\",\"pizza nova\",\"pizza pizza\",\n",
    "              \"pizzeria\",\"popeyes\",\"presto\",\"rabba fine foods\",\"real cdn superstore\",\n",
    "              \"reitmans\",\"rexall\",\"rogers\",\"rona\",\"safeway gas bar\",\"sears\",\"second cup\",\n",
    "              \"sephora\",\"shell\",\"shoppers drug mart\",\"sobeys\",\"solo liquor store\",\n",
    "              \"sport chek\",\"spotify\",\"st louis bar & grill\",\"staples\",\"starbucks\",\n",
    "              \"subway\",\"swiss chalet\",\"t&t\",\"telus\",\"the bargain shop\",\"the body shop\",\n",
    "              \"the childrens place\",\"the source\",\"tim hortons\",\"tip top tailors\",\n",
    "              \"tommy hilfiger\",\"toys r us\",\"u of a\",\"u of t\",\"uber eats\",\"uber\",\n",
    "              \"urban planet\",\"utramar\",\"victorias secret\",\"walmart\",\"wendys\",\"winners\",\n",
    "              \"yellow cab\",\"your dollar store\",\"zara\",\"zipcar\",\"zumier\", 'petrocan', 'save on foods',\n",
    "              'pharma plus', 'netflix.com', 'mucho burrito', 'party stuff', 'lcbo', 'circle k', 'home hardware',\n",
    "              'concessions', 'timeplay', 'jack astors', 'arbys', 'canadas wonderland', 'big bee',\n",
    "            'canex', 'centennial coll' 'carleton univ', 'chartwells', 'child tickets', 'coca cola', 'dominos', \n",
    "             'elmsdale supers', 'fatburger', 'galaxy cinemas', 'georgian college', 'husky',\n",
    "            'safeway', 'nations fresh food', 'sheridan college', 'villa madina', 'yogen fruz', 'znos',\n",
    "            'ryanair', 'hakim optical', 'rw & co', 'wine rack', 'hallmark', 'happy dollar mart', 'moores clothing',\n",
    "            'moneymart', 'needs', 'microsoft', 'rec room', 'real canadian superstore', 'olive garden', 'nordstrom', 'rcss', \n",
    "            'red river co-op', 'shoppers drug', 'scene premium admit', 'little caeser', 'ultramar', 'value village',\n",
    "            'adidas', 'atlantic superstore', 'bath & body', 'beavertails', 'bentley', 'booster juice', 'champs sports', 'chipotle',\n",
    "            'aeo canada', 'aramark', 'zehrs', 'lawtons drugs', 'landmark', 'kwik way', 'kelseys',\n",
    "            'journeys', 'jimmy te greek', 'jack and jones']\n",
    "    for name in names:\n",
    "        my_regex = r\".*\" + re.escape(name) + r\".*\"\n",
    "        column = re.sub(my_regex, name, column)\n",
    "        \n",
    "    provs  = [\"ab\", \"bc\", \"mb\", \"nb\", \"nl\", \"ns\", \"nt\", \"nu\", \"on\", \"pe\", \"qc\", \"sk\", \"yt\"]\n",
    "    for prov in provs:\n",
    "        my_regex = r\"\\b\" + re.escape(prov) + r\"\\b\"\n",
    "        column = re.sub(my_regex, '', column)\n",
    "        \n",
    "    cities  = [\"surrey\", \"brampton\", \"toronto\", 'winnipeg', 'mississauga', 'burnaby', 'ottawa',\n",
    "               'oshawa', 'whitby', 'london', 'windsor', 'vancouver', 'waterloo', 'surrey',\n",
    "              'kitchener', 'scarborough', 'saskatoon', 'richmond', 'calgary', 'peterborough', 'edmonton',\n",
    "              'montreal', 'hamilton', 'quebec city', 'laval', 'halifax', 'markham', 'vaughan', 'gatineau', 'regina', 'richmond hill',\n",
    "              'richmond', 'oakville', 'burlington', 'sherbrooke', 'saguenay', 'barrie', 'abbotsford', 'guelph', 'kingston', 'ajax', 'niagara falls']\n",
    "    for city in cities:\n",
    "        my_regex = r\"\" + re.escape(city) + r\"\"\n",
    "        column = re.sub(my_regex, '', column)\n",
    "\n",
    "    column = re.sub('\\d\\d\\d-\\d\\d\\d-\\d\\d\\d\\d', ' ', column)\n",
    "    column = re.sub('  +', ' ', column)\n",
    "    column = column.strip().strip('\"').strip(\"'\").lower().strip()\n",
    "    # If data is missing, indicate that by setting the value to `None`\n",
    "    if not column:\n",
    "        column = \"None\"\n",
    "    return column"
   ]
  },
  {
   "cell_type": "code",
   "execution_count": 7,
   "metadata": {},
   "outputs": [
    {
     "data": {
      "text/plain": [
       "'soda'"
      ]
     },
     "execution_count": 7,
     "metadata": {},
     "output_type": "execute_result"
    },
    {
     "data": {
      "text/plain": [
       "'tim horton'"
      ]
     },
     "execution_count": 7,
     "metadata": {},
     "output_type": "execute_result"
    },
    {
     "data": {
      "text/plain": [
       "'tim horton'"
      ]
     },
     "execution_count": 7,
     "metadata": {},
     "output_type": "execute_result"
    },
    {
     "data": {
      "text/plain": [
       "'liquor mart'"
      ]
     },
     "execution_count": 7,
     "metadata": {},
     "output_type": "execute_result"
    },
    {
     "data": {
      "text/plain": [
       "'wine rack'"
      ]
     },
     "execution_count": 7,
     "metadata": {},
     "output_type": "execute_result"
    },
    {
     "data": {
      "text/plain": [
       "'mcdonalds'"
      ]
     },
     "execution_count": 7,
     "metadata": {},
     "output_type": "execute_result"
    },
    {
     "data": {
      "text/plain": [
       "'mcdonalds'"
      ]
     },
     "execution_count": 7,
     "metadata": {},
     "output_type": "execute_result"
    }
   ],
   "source": [
    "preProcess('soda #5434')\n",
    "preProcess(\"TIM HORTON'S #5756       EDMONTON     AB\")\n",
    "preProcess(\"TIM HORTONS #0506# QTH                       2\")\n",
    "preProcess(\"MB LIQUOR MART #25\")\n",
    "preProcess(\"WINE RACK 84              [MERGET]6046465725444283\")\n",
    "preProcess(\"MCDONALD'S #2445         \")\n",
    "preProcess(\"MCDONALD #40340          \")"
   ]
  },
  {
   "cell_type": "code",
   "execution_count": 8,
   "metadata": {},
   "outputs": [
    {
     "name": "stdout",
     "output_type": "stream",
     "text": [
      "CPU times: user 29min 31s, sys: 3.29 s, total: 29min 34s\n",
      "Wall time: 29min 34s\n"
     ]
    }
   ],
   "source": [
    "%time df['ex_transactiondescription'] = df['ex_transactiondescription'].apply(preProcess)"
   ]
  },
  {
   "cell_type": "code",
   "execution_count": 9,
   "metadata": {},
   "outputs": [
    {
     "data": {
      "text/plain": [
       "75080"
      ]
     },
     "execution_count": 9,
     "metadata": {},
     "output_type": "execute_result"
    }
   ],
   "source": [
    "df['ex_transactiondescription'].nunique()\n",
    "\n",
    "# For manuel inspection in Excel\n",
    "#df.groupby(['ex_transactiondescription_clean']).size().sort_values(ascending=False).to_csv('tmp.csv')"
   ]
  },
  {
   "cell_type": "code",
   "execution_count": 10,
   "metadata": {},
   "outputs": [],
   "source": [
    "# Always null; drop\n",
    "df = df.drop(['MerchantID'], axis=1)\n",
    "\n",
    "df.to_csv('SceneAnalytics.dbo.SP_Points_cleaned.csv', index=False)"
   ]
  },
  {
   "cell_type": "markdown",
   "metadata": {},
   "source": [
    "# Clean CustomerDetail"
   ]
  },
  {
   "cell_type": "code",
   "execution_count": 11,
   "metadata": {},
   "outputs": [
    {
     "name": "stdout",
     "output_type": "stream",
     "text": [
      "CPU times: user 72 ms, sys: 2.01 ms, total: 74 ms\n",
      "Wall time: 120 ms\n",
      "<class 'pandas.core.frame.DataFrame'>\n",
      "RangeIndex: 18000 entries, 0 to 17999\n",
      "Data columns (total 8 columns):\n",
      "Unique_member_identifier    18000 non-null object\n",
      "City                        18000 non-null object\n",
      "StateProv                   18000 non-null object\n",
      "FSA                         18000 non-null object\n",
      "PointsTotal                 18000 non-null int64\n",
      "LanguagePreference          18000 non-null object\n",
      "gender                      18000 non-null object\n",
      "age_class                   18000 non-null object\n",
      "dtypes: int64(1), object(7)\n",
      "memory usage: 1.1+ MB\n"
     ]
    },
    {
     "data": {
      "text/html": [
       "<div>\n",
       "<style>\n",
       "    .dataframe thead tr:only-child th {\n",
       "        text-align: right;\n",
       "    }\n",
       "\n",
       "    .dataframe thead th {\n",
       "        text-align: left;\n",
       "    }\n",
       "\n",
       "    .dataframe tbody tr th {\n",
       "        vertical-align: top;\n",
       "    }\n",
       "</style>\n",
       "<table border=\"1\" class=\"dataframe\">\n",
       "  <thead>\n",
       "    <tr style=\"text-align: right;\">\n",
       "      <th></th>\n",
       "      <th>Unique_member_identifier</th>\n",
       "      <th>City</th>\n",
       "      <th>StateProv</th>\n",
       "      <th>FSA</th>\n",
       "      <th>PointsTotal</th>\n",
       "      <th>LanguagePreference</th>\n",
       "      <th>gender</th>\n",
       "      <th>age_class</th>\n",
       "    </tr>\n",
       "  </thead>\n",
       "  <tbody>\n",
       "    <tr>\n",
       "      <th>0</th>\n",
       "      <td>3EC07935-F94A-4069-B03C-FCB7909D2226</td>\n",
       "      <td>BRADFORD</td>\n",
       "      <td>ON</td>\n",
       "      <td>L3Z</td>\n",
       "      <td>5284</td>\n",
       "      <td>English</td>\n",
       "      <td>Female</td>\n",
       "      <td>14-17</td>\n",
       "    </tr>\n",
       "    <tr>\n",
       "      <th>1</th>\n",
       "      <td>E7ADE72A-7B37-4CE4-8C6B-CBD91C563E59</td>\n",
       "      <td>PRIDDIS</td>\n",
       "      <td>AB</td>\n",
       "      <td>T0L</td>\n",
       "      <td>1617</td>\n",
       "      <td>English</td>\n",
       "      <td>Male</td>\n",
       "      <td>14-17</td>\n",
       "    </tr>\n",
       "    <tr>\n",
       "      <th>2</th>\n",
       "      <td>DC64E547-CC11-45A2-A1B7-2F47674DA8DB</td>\n",
       "      <td>Surrey</td>\n",
       "      <td>BC</td>\n",
       "      <td>V4N</td>\n",
       "      <td>1158</td>\n",
       "      <td>English</td>\n",
       "      <td>Female</td>\n",
       "      <td>35-44</td>\n",
       "    </tr>\n",
       "    <tr>\n",
       "      <th>3</th>\n",
       "      <td>E186B0AF-3ACC-436E-A5B0-6B999EED8E19</td>\n",
       "      <td>Edmonton</td>\n",
       "      <td>AB</td>\n",
       "      <td>T6L</td>\n",
       "      <td>639</td>\n",
       "      <td>English</td>\n",
       "      <td>Female</td>\n",
       "      <td>18-24</td>\n",
       "    </tr>\n",
       "    <tr>\n",
       "      <th>4</th>\n",
       "      <td>610D46DC-934A-4BBA-8975-C67282AC6DE0</td>\n",
       "      <td>VANCOUVER</td>\n",
       "      <td>BC</td>\n",
       "      <td>V5N</td>\n",
       "      <td>0</td>\n",
       "      <td>English</td>\n",
       "      <td>Male</td>\n",
       "      <td>18-24</td>\n",
       "    </tr>\n",
       "  </tbody>\n",
       "</table>\n",
       "</div>"
      ],
      "text/plain": [
       "               Unique_member_identifier       City StateProv  FSA  \\\n",
       "0  3EC07935-F94A-4069-B03C-FCB7909D2226   BRADFORD        ON  L3Z   \n",
       "1  E7ADE72A-7B37-4CE4-8C6B-CBD91C563E59    PRIDDIS        AB  T0L   \n",
       "2  DC64E547-CC11-45A2-A1B7-2F47674DA8DB     Surrey        BC  V4N   \n",
       "3  E186B0AF-3ACC-436E-A5B0-6B999EED8E19   Edmonton        AB  T6L   \n",
       "4  610D46DC-934A-4BBA-8975-C67282AC6DE0  VANCOUVER        BC  V5N   \n",
       "\n",
       "   PointsTotal LanguagePreference  gender age_class  \n",
       "0         5284            English  Female     14-17  \n",
       "1         1617            English    Male     14-17  \n",
       "2         1158            English  Female     35-44  \n",
       "3          639            English  Female     18-24  \n",
       "4            0            English    Male     18-24  "
      ]
     },
     "execution_count": 11,
     "metadata": {},
     "output_type": "execute_result"
    }
   ],
   "source": [
    "%time df=pd.read_csv(\"SceneAnalytics.dbo.SP_CustomerDetail.csv\", encoding='latin-1')\n",
    "df.info()\n",
    "df.head()"
   ]
  },
  {
   "cell_type": "code",
   "execution_count": 12,
   "metadata": {},
   "outputs": [
    {
     "data": {
      "text/plain": [
       "3430"
      ]
     },
     "execution_count": 12,
     "metadata": {},
     "output_type": "execute_result"
    }
   ],
   "source": [
    "df['City'].nunique()"
   ]
  },
  {
   "cell_type": "code",
   "execution_count": 13,
   "metadata": {},
   "outputs": [],
   "source": [
    "import string\n",
    "\n",
    "# Let's try to clean up some of the city names.\n",
    "\n",
    "def normalizeCity(column):\n",
    "    column = column.lower().strip()\n",
    "    column = re.sub('  +', ' ', column)\n",
    "    column = column.translate(str.maketrans('', '', string.punctuation))\n",
    "    column = re.sub(r'missis.*', 'mississauga', column)\n",
    "    \n",
    "    column = re.sub(r'\\bste\\b', 'st', column)\n",
    "    column = re.sub(r'\\bsaint\\b', 'st', column)\n",
    "    column = re.sub(r'\\'', '', column)\n",
    "    column = re.sub(r'-', ' ', column)\n",
    "    \n",
    "    provs  = [\"ab\", \"bc\", \"mb\", \"nb\", \"nl\", \"ns\", \"nt\", \"nu\", \"on\", \"pe\", \"qc\", \"sk\", \"yt\"]\n",
    "    for prov in provs:\n",
    "        my_regex = r\"\\b\" + re.escape(prov) + r\"\\b\"\n",
    "        column = re.sub(my_regex, '', column)\n",
    "    \n",
    "\n",
    "        \n",
    "    names = ['tim horton', 'macs conv. store']\n",
    "    for name in names:\n",
    "        my_regex = r\".*\" + re.escape(name) + r\".*\"\n",
    "        column = re.sub(my_regex, name, column)\n",
    "        \n",
    "    return column.title()"
   ]
  },
  {
   "cell_type": "code",
   "execution_count": 14,
   "metadata": {},
   "outputs": [
    {
     "data": {
      "text/plain": [
       "'St Johns'"
      ]
     },
     "execution_count": 14,
     "metadata": {},
     "output_type": "execute_result"
    },
    {
     "data": {
      "text/plain": [
       "'St Johns'"
      ]
     },
     "execution_count": 14,
     "metadata": {},
     "output_type": "execute_result"
    },
    {
     "data": {
      "text/plain": [
       "'St Johns'"
      ]
     },
     "execution_count": 14,
     "metadata": {},
     "output_type": "execute_result"
    },
    {
     "data": {
      "text/plain": [
       "'St Johns'"
      ]
     },
     "execution_count": 14,
     "metadata": {},
     "output_type": "execute_result"
    },
    {
     "data": {
      "text/plain": [
       "'St Johns'"
      ]
     },
     "execution_count": 14,
     "metadata": {},
     "output_type": "execute_result"
    },
    {
     "data": {
      "text/plain": [
       "'St Johns'"
      ]
     },
     "execution_count": 14,
     "metadata": {},
     "output_type": "execute_result"
    }
   ],
   "source": [
    "normalizeCity('St. Johns')\n",
    "normalizeCity('St Johns')\n",
    "normalizeCity('Saint Johns')\n",
    "normalizeCity('Ste. Johns')\n",
    "normalizeCity('Ste Johns')\n",
    "normalizeCity('St. John\\'s')"
   ]
  },
  {
   "cell_type": "code",
   "execution_count": 15,
   "metadata": {},
   "outputs": [
    {
     "name": "stdout",
     "output_type": "stream",
     "text": [
      "CPU times: user 1.67 s, sys: 7 ms, total: 1.68 s\n",
      "Wall time: 1.68 s\n"
     ]
    }
   ],
   "source": [
    "%time df['City'] = df['City'].apply(normalizeCity)"
   ]
  },
  {
   "cell_type": "code",
   "execution_count": 16,
   "metadata": {},
   "outputs": [
    {
     "data": {
      "text/plain": [
       "2222"
      ]
     },
     "execution_count": 16,
     "metadata": {},
     "output_type": "execute_result"
    }
   ],
   "source": [
    "df['City'].nunique()"
   ]
  },
  {
   "cell_type": "code",
   "execution_count": 17,
   "metadata": {},
   "outputs": [],
   "source": [
    "df.to_csv(\"SceneAnalytics.dbo.SP_CustomerDetail_cleaned.csv\", index=False)"
   ]
  }
 ],
 "metadata": {
  "kernelspec": {
   "display_name": "Python 3",
   "language": "python",
   "name": "python3"
  },
  "language_info": {
   "codemirror_mode": {
    "name": "ipython",
    "version": 3
   },
   "file_extension": ".py",
   "mimetype": "text/x-python",
   "name": "python",
   "nbconvert_exporter": "python",
   "pygments_lexer": "ipython3",
   "version": "3.6.4"
  }
 },
 "nbformat": 4,
 "nbformat_minor": 4
}
